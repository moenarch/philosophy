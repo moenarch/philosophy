{
 "cells": [
  {
   "cell_type": "markdown",
   "source": [
    "# Rules of Inference"
   ],
   "metadata": {}
  },
  {
   "cell_type": "markdown",
   "source": [
    "Explaining the rules of inference"
   ],
   "metadata": {}
  },
  {
   "cell_type": "code",
   "execution_count": 28,
   "source": [
    "%run operators.ipynb"
   ],
   "outputs": [],
   "metadata": {}
  },
  {
   "cell_type": "code",
   "execution_count": 29,
   "source": [
    "class rule_of_inference:\r\n",
    "    def __init__(self, validity):\r\n",
    "        self.validity = validity"
   ],
   "outputs": [],
   "metadata": {}
  },
  {
   "cell_type": "markdown",
   "source": [
    "## Rules for Negations"
   ],
   "metadata": {}
  },
  {
   "cell_type": "markdown",
   "source": [
    "### Double Negation Elimination"
   ],
   "metadata": {}
  },
  {
   "cell_type": "code",
   "execution_count": 44,
   "source": [
    "def double_negation_elimination(negation):\r\n",
    "    if 'negation' in negation.types and 'negation' in negation.proposition.types:\r\n",
    "        if negation.isTrue():\r\n",
    "            negation.proposition.proposition.truth_value = True"
   ],
   "outputs": [],
   "metadata": {}
  },
  {
   "cell_type": "markdown",
   "source": [
    "### Double Negation Introduction"
   ],
   "metadata": {}
  },
  {
   "cell_type": "code",
   "execution_count": 49,
   "source": [
    "def double_negation_introduction(negation):\r\n",
    "    if 'negation' in negation.types and 'negation' in negation.proposition.types:\r\n",
    "        if negation.proposition.proposition.isTrue():\r\n",
    "            negation.truth_value = True"
   ],
   "outputs": [],
   "metadata": {}
  },
  {
   "cell_type": "markdown",
   "source": [
    "### Reductio ad Absurdum\r\n",
    "\r\n",
    "A reduction ad absurdum occurs when we can suppose something and then derive a statement and its negation."
   ],
   "metadata": {}
  },
  {
   "cell_type": "code",
   "execution_count": 45,
   "source": [
    "def reductio_ad_absurdum(negation, supposition):\r\n",
    "    if 'negation' in negation.types and 'proposition' in supposition.types:\r\n",
    "        if negation.isTrue() and negation.proposition.isTrue():\r\n",
    "            supposition.truth_value = False"
   ],
   "outputs": [],
   "metadata": {}
  },
  {
   "cell_type": "markdown",
   "source": [
    "## Rules for Implications"
   ],
   "metadata": {}
  },
  {
   "cell_type": "markdown",
   "source": [
    "## Modus Ponens"
   ],
   "metadata": {}
  },
  {
   "cell_type": "code",
   "execution_count": 46,
   "source": [
    "def modus_ponens(implication, proposition):\r\n",
    "    if 'implication' in implication.types and 'proposition' in proposition.types:\r\n",
    "        if implication.antecedent == proposition:\r\n",
    "            if implication.isTrue() and proposition.isTrue():\r\n",
    "                implication.consequent.truth_value = True"
   ],
   "outputs": [],
   "metadata": {}
  },
  {
   "cell_type": "markdown",
   "source": [
    "## Modus Tollens"
   ],
   "metadata": {}
  },
  {
   "cell_type": "code",
   "execution_count": 47,
   "source": [
    "def modus_tollens(implication, proposition):\r\n",
    "    if 'implication' in implication.types and 'proposition' in proposition.types:\r\n",
    "        if implication.consequent == proposition:\r\n",
    "            if implication.isTrue() and proposition.isTrue() == False:\r\n",
    "                implication.antecedent.truth_value = False"
   ],
   "outputs": [],
   "metadata": {}
  },
  {
   "cell_type": "markdown",
   "source": [
    "## Rules for Conjunctions"
   ],
   "metadata": {}
  },
  {
   "cell_type": "markdown",
   "source": [
    "### Conjunction Introduction"
   ],
   "metadata": {}
  },
  {
   "cell_type": "code",
   "execution_count": 50,
   "source": [
    "def adjunction(conjunction):\r\n",
    "    if 'conjunction' in conjunction.types:\r\n",
    "        for prop in conjunction.propositions:\r\n",
    "            if prop.isTrue():\r\n",
    "                continue\r\n",
    "            else:\r\n",
    "                return\r\n",
    "        conjunction.truth_value = True"
   ],
   "outputs": [],
   "metadata": {}
  },
  {
   "cell_type": "markdown",
   "source": [
    "### Conjunction Elimination"
   ],
   "metadata": {}
  },
  {
   "cell_type": "code",
   "execution_count": 51,
   "source": [
    "def simplification(conjunction):\r\n",
    "    if 'conjunction' in conjunction.types:\r\n",
    "        if conjunction.isTrue():\r\n",
    "            for prop in conjunction.propositions:\r\n",
    "                prop.truth_value = True"
   ],
   "outputs": [],
   "metadata": {}
  },
  {
   "cell_type": "markdown",
   "source": [
    "## Rules for Disjunctions"
   ],
   "metadata": {}
  },
  {
   "cell_type": "markdown",
   "source": [
    "### Disjunction Introduction"
   ],
   "metadata": {}
  },
  {
   "cell_type": "code",
   "execution_count": 52,
   "source": [
    "def disjunction_introduction(disjunction):\r\n",
    "    if 'disjunction' in disjunction.types:\r\n",
    "        for prop in disjunction.propositions:\r\n",
    "            if prop.isTrue():\r\n",
    "                disjunction.truth_value = True\r\n",
    "                break"
   ],
   "outputs": [],
   "metadata": {}
  },
  {
   "cell_type": "markdown",
   "source": [
    "### Disjunction Elimination"
   ],
   "metadata": {}
  },
  {
   "cell_type": "code",
   "execution_count": 54,
   "source": [
    "def disjunctive_syllogism(disjunction):\r\n",
    "    if 'disjunction' in disjunction.types:\r\n",
    "        if disjunction.isTrue():\r\n",
    "            temp = None\r\n",
    "            for prop in disjunction.propositions:\r\n",
    "                if prop.isTrue():\r\n",
    "                    return\r\n",
    "                if prop.isTrue() == None:\r\n",
    "                    if temp == None:\r\n",
    "                        temp = prop\r\n",
    "                    else:\r\n",
    "                        return\r\n",
    "            if temp != None:\r\n",
    "                temp.truth_value = True\r\n"
   ],
   "outputs": [],
   "metadata": {}
  },
  {
   "cell_type": "markdown",
   "source": [
    "### Case Analysis"
   ],
   "metadata": {}
  },
  {
   "cell_type": "code",
   "execution_count": 56,
   "source": [
    "def disjunction_elimination(disjunction, implications):\r\n",
    "    if 'disjunction' in disjunction.types and disjunction.isTrue():\r\n",
    "        props = disjunction.propositions\r\n",
    "        consequent = props[0].consequent\r\n",
    "        for prop in props:\r\n",
    "            t = False\r\n",
    "            for imp in implications:\r\n",
    "                if imp.isTrue() and prop == imp.antecedent:\r\n",
    "                    if consequent == imp.consequent:\r\n",
    "                        t = True\r\n",
    "                        break\r\n",
    "                    else:\r\n",
    "                        return\r\n",
    "            if t is False:\r\n",
    "                return\r\n",
    "        consequent.truth_value = True"
   ],
   "outputs": [],
   "metadata": {}
  },
  {
   "cell_type": "code",
   "execution_count": null,
   "source": [],
   "outputs": [],
   "metadata": {}
  }
 ],
 "metadata": {
  "orig_nbformat": 4,
  "language_info": {
   "name": "python",
   "version": "3.9.7",
   "mimetype": "text/x-python",
   "codemirror_mode": {
    "name": "ipython",
    "version": 3
   },
   "pygments_lexer": "ipython3",
   "nbconvert_exporter": "python",
   "file_extension": ".py"
  },
  "kernelspec": {
   "name": "python3",
   "display_name": "Python 3.9.7 64-bit"
  },
  "interpreter": {
   "hash": "82898b3cb93af053798cf32c235f52e9c2a197d974e3ce392c822389aa7b6a55"
  }
 },
 "nbformat": 4,
 "nbformat_minor": 2
}