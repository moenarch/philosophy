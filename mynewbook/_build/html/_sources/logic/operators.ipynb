{
 "cells": [
  {
   "cell_type": "markdown",
   "source": [
    "# Operators"
   ],
   "metadata": {}
  },
  {
   "cell_type": "code",
   "execution_count": 24,
   "source": [
    "%run propositions.ipynb"
   ],
   "outputs": [],
   "metadata": {}
  },
  {
   "cell_type": "code",
   "execution_count": 25,
   "source": [
    "def negate(truth_value):\r\n",
    "    if truth_value == None:\r\n",
    "        return None\r\n",
    "    return not truth_value\r\n",
    "\r\n",
    "class negation(proposition):\r\n",
    "    def __init__(self, prop, truth_value):\r\n",
    "        proposition.__init__(self, truth_value)\r\n",
    "        self.types[\"negation\"] = [\"proposition\"]\r\n",
    "        self.proposition = prop\r\n",
    "\r\n",
    "    def calculate(self):\r\n",
    "        return negate(self.proposition.isTrue())"
   ],
   "outputs": [],
   "metadata": {}
  },
  {
   "cell_type": "markdown",
   "source": [
    "## Conditional"
   ],
   "metadata": {}
  },
  {
   "cell_type": "code",
   "execution_count": 22,
   "source": [
    "class implication(proposition):\r\n",
    "    def __init__(self, antecedent, consequent, truth_value=None):\r\n",
    "        proposition.__init__(self, truth_value)\r\n",
    "        self.types[\"implication\"] = [\"proposition\"]\r\n",
    "        self.antecedent = antecedent\r\n",
    "        self.consequent = consequent\r\n",
    "\r\n",
    "    def calculate(self):\r\n",
    "        antecedent = self.antecedent\r\n",
    "        consequent = self.consequent\r\n",
    "        if antecedent.truth_value == False:\r\n",
    "            return True\r\n",
    "        if consequent.truth_value == True:\r\n",
    "            return True\r\n",
    "        if antecedent.truth_value == True and consequent.truth_value == False:\r\n",
    "            return False\r\n",
    "        return self.truth_value\r\n",
    "\r\n",
    "    def getText(self):\r\n",
    "        return \"if \" + self.antecedent.getText() + \" then \" + self.consequent.getText()"
   ],
   "outputs": [],
   "metadata": {}
  },
  {
   "cell_type": "markdown",
   "source": [
    "## Conjunction"
   ],
   "metadata": {}
  },
  {
   "cell_type": "code",
   "execution_count": 21,
   "source": [
    "class conjunction(proposition):\r\n",
    "    def __init__(self, propositions, truth_value=None):\r\n",
    "        proposition.__init__(self, truth_value)\r\n",
    "        self.types[\"conjunction\"] = [\"proposition\"]\r\n",
    "        self.propositions = propositions\r\n",
    "\r\n",
    "    def calculate(self):\r\n",
    "        temp = True\r\n",
    "        for prop in self.propositions:\r\n",
    "            if prop.isTrue() == False:\r\n",
    "                temp = False\r\n",
    "                break\r\n",
    "            if prop.isTrue() != True:\r\n",
    "                temp = prop.isTrue()\r\n",
    "        return temp\r\n",
    "\r\n",
    "    def getText(self):\r\n",
    "        text = self.propositions[0].getText()\r\n",
    "        for prop in self.propositions[1:]:\r\n",
    "            text += \" and \" + prop.getText()"
   ],
   "outputs": [],
   "metadata": {}
  },
  {
   "cell_type": "markdown",
   "source": [
    "## Disjunction"
   ],
   "metadata": {}
  },
  {
   "cell_type": "code",
   "execution_count": 20,
   "source": [
    "class disjunction(proposition):\r\n",
    "    def __init__(self, propositions, truth_value=None):\r\n",
    "        proposition.__init__(self, truth_value)\r\n",
    "        self.types[\"disjunction\"] = [\"proposition\"]\r\n",
    "        self.propositions = propositions\r\n",
    "\r\n",
    "    def calculate(self):\r\n",
    "        temp = False\r\n",
    "        for prop in self.propositions:\r\n",
    "            if prop.isTrue() == True:\r\n",
    "                temp = True\r\n",
    "                break\r\n",
    "            if prop.isTrue() != False:\r\n",
    "                temp = prop.isTrue()\r\n",
    "        return temp\r\n",
    "\r\n",
    "    def getText(self):\r\n",
    "        text = self.propositions[0].getText()\r\n",
    "        for prop in self.propositions[1:]:\r\n",
    "            text += \" or \" + prop.getText()"
   ],
   "outputs": [],
   "metadata": {}
  },
  {
   "cell_type": "markdown",
   "source": [
    "## Biconditional"
   ],
   "metadata": {}
  },
  {
   "cell_type": "code",
   "execution_count": 26,
   "source": [
    "class biconditional(proposition):\r\n",
    "    def __init__(self, propositions, truth_value=None):\r\n",
    "        proposition.__init__(self, truth_value)\r\n",
    "        self.types[\"biconditional\"] = [\"proposition\"]\r\n",
    "        self.propositions = propositions\r\n",
    "\r\n",
    "    def calculate(self):\r\n",
    "        first = self.propositions[0]\r\n",
    "        temp = first.isTrue()\r\n",
    "        if temp is None:\r\n",
    "            return None\r\n",
    "        for prop in self.propositions[1:]:\r\n",
    "            if prop.isTrue() != temp:\r\n",
    "                return None\r\n",
    "        return True\r\n",
    "\r\n",
    "    #def getText(self):\r\n",
    "    #    return self.antecedent.getText() + \" if and only if \" + self.consequent.getText()"
   ],
   "outputs": [
    {
     "output_type": "error",
     "ename": "SyntaxError",
     "evalue": "invalid syntax (Temp/ipykernel_27512/352170862.py, line 12)",
     "traceback": [
      "\u001b[1;36m  File \u001b[1;32m\"C:\\Users\\CATHMO~1\\AppData\\Local\\Temp/ipykernel_27512/352170862.py\"\u001b[1;36m, line \u001b[1;32m12\u001b[0m\n\u001b[1;33m    for prop in self.propositions[1:]\u001b[0m\n\u001b[1;37m                                     ^\u001b[0m\n\u001b[1;31mSyntaxError\u001b[0m\u001b[1;31m:\u001b[0m invalid syntax\n"
     ]
    }
   ],
   "metadata": {}
  }
 ],
 "metadata": {
  "orig_nbformat": 4,
  "language_info": {
   "name": "python",
   "version": "3.9.7",
   "mimetype": "text/x-python",
   "codemirror_mode": {
    "name": "ipython",
    "version": 3
   },
   "pygments_lexer": "ipython3",
   "nbconvert_exporter": "python",
   "file_extension": ".py"
  },
  "kernelspec": {
   "name": "python3",
   "display_name": "Python 3.9.7 64-bit"
  },
  "interpreter": {
   "hash": "82898b3cb93af053798cf32c235f52e9c2a197d974e3ce392c822389aa7b6a55"
  }
 },
 "nbformat": 4,
 "nbformat_minor": 2
}