{
 "cells": [
  {
   "cell_type": "markdown",
   "metadata": {},
   "source": [
    "# Graphs"
   ]
  },
  {
   "cell_type": "code",
   "execution_count": 1,
   "metadata": {},
   "outputs": [
    {
     "name": "stdout",
     "output_type": "stream",
     "text": [
      "D:\\Catholicism\\philosophy\\mynewbook\n"
     ]
    },
    {
     "name": "stdout",
     "output_type": "stream",
     "text": [
      "D:\\Catholicism\\philosophy\\mynewbook\\mathematics\n"
     ]
    }
   ],
   "source": [
    "%cd ..\r\n",
    "%run utils.ipynb\r\n",
    "%cd mathematics/"
   ]
  },
  {
   "cell_type": "code",
   "execution_count": 2,
   "metadata": {},
   "outputs": [],
   "source": [
    "class node(multityped):\r\n",
    "    def __init__(self, value):\r\n",
    "        multityped.__init__(self)\r\n",
    "        self.types[\"node\"] = []\r\n",
    "        self.value = value\r\n",
    "    \r\n",
    "    def getValue(self):\r\n",
    "        return self.value"
   ]
  },
  {
   "cell_type": "code",
   "execution_count": 3,
   "metadata": {},
   "outputs": [],
   "source": [
    "class edge(multityped):\r\n",
    "    def __init__(self):\r\n",
    "        multityped.__init__(self)\r\n",
    "        self.types[\"edge\"] = []\r\n",
    "\r\n",
    "class directed_edge(edge):\r\n",
    "    def __init__(self, source, target):\r\n",
    "        edge.__init__(self)\r\n",
    "        self.types[\"directed_edge\"] = [\"edge\"]\r\n",
    "        self.source = source\r\n",
    "        self.target = target\r\n",
    "\r\n",
    "    def getSource(self):\r\n",
    "        return self.source\r\n",
    "\r\n",
    "    def getTarget(self):\r\n",
    "        return self.target"
   ]
  }
 ],
 "metadata": {
  "interpreter": {
   "hash": "82898b3cb93af053798cf32c235f52e9c2a197d974e3ce392c822389aa7b6a55"
  },
  "kernelspec": {
   "display_name": "Python 3.9.7 64-bit",
   "name": "python3"
  },
  "language_info": {
   "codemirror_mode": {
    "name": "ipython",
    "version": 3
   },
   "file_extension": ".py",
   "mimetype": "text/x-python",
   "name": "python",
   "nbconvert_exporter": "python",
   "pygments_lexer": "ipython3",
   "version": "3.9.7"
  }
 },
 "nbformat": 4,
 "nbformat_minor": 2
}