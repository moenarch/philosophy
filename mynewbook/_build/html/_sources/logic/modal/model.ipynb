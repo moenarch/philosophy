{
 "cells": [
  {
   "cell_type": "code",
   "execution_count": 1,
   "source": [
    "%cd ..\r\n",
    "%run utils.ipynb\r\n",
    "%cd modal/"
   ],
   "outputs": [
    {
     "output_type": "stream",
     "name": "stdout",
     "text": [
      "d:\\Catholicism\\philosophy\\mynewbook\\logic\n",
      "d:\\Catholicism\\philosophy\\mynewbook\\logic\\modal\n"
     ]
    }
   ],
   "metadata": {}
  },
  {
   "cell_type": "code",
   "execution_count": 3,
   "source": [
    "class model(multityped):\r\n",
    "    def __init__(self, worlds, relations, valuation):\r\n",
    "        multityped.__init__(self)\r\n",
    "        self.types[\"model\"] = []\r\n",
    "        self.worlds = worlds\r\n",
    "        self.relations = relations\r\n",
    "        self.valuation = valuation\r\n",
    "    \r\n",
    "    def addWorld(world):\r\n",
    "        self.worlds.add(world)"
   ],
   "outputs": [],
   "metadata": {}
  },
  {
   "cell_type": "code",
   "execution_count": null,
   "source": [],
   "outputs": [],
   "metadata": {}
  }
 ],
 "metadata": {
  "orig_nbformat": 4,
  "language_info": {
   "name": "python",
   "version": "3.9.7",
   "mimetype": "text/x-python",
   "codemirror_mode": {
    "name": "ipython",
    "version": 3
   },
   "pygments_lexer": "ipython3",
   "nbconvert_exporter": "python",
   "file_extension": ".py"
  },
  "kernelspec": {
   "name": "python3",
   "display_name": "Python 3.9.7 64-bit"
  },
  "interpreter": {
   "hash": "82898b3cb93af053798cf32c235f52e9c2a197d974e3ce392c822389aa7b6a55"
  }
 },
 "nbformat": 4,
 "nbformat_minor": 2
}