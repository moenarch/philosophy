{
 "cells": [
  {
   "cell_type": "markdown",
   "metadata": {},
   "source": [
    "# Operators"
   ]
  },
  {
   "cell_type": "code",
   "execution_count": 1,
   "metadata": {},
   "outputs": [
    {
     "name": "stdout",
     "output_type": "stream",
     "text": [
      "D:\\Catholicism\\philosophy\\mynewbook\\logic\n",
      "D:\\Catholicism\\philosophy\\mynewbook\n",
      "D:\\Catholicism\\philosophy\\mynewbook\\logic\n"
     ]
    }
   ],
   "source": [
    "%cd ..\r\n",
    "%run operators.ipynb"
   ]
  },
  {
   "cell_type": "markdown",
   "metadata": {},
   "source": [
    "## Necessity"
   ]
  },
  {
   "cell_type": "code",
   "execution_count": 2,
   "metadata": {},
   "outputs": [],
   "source": [
    "class necessity(proposition):\r\n",
    "    def __init__(self, proposition, truth_value):\r\n",
    "        proposition.__init__(self, proposition, truth_value)\r\n",
    "        self.types['necessity'] = ['proposition']"
   ]
  },
  {
   "cell_type": "markdown",
   "metadata": {},
   "source": [
    "## Possibility"
   ]
  },
  {
   "cell_type": "code",
   "execution_count": 3,
   "metadata": {},
   "outputs": [],
   "source": [
    "class possibility(proposition):\r\n",
    "    def __init__(self, proposition, truth_value):\r\n",
    "        proposition.__init__(self, proposition, truth_value)\r\n",
    "        self.types['possibility'] = ['proposition']"
   ]
  }
 ],
 "metadata": {
  "interpreter": {
   "hash": "82898b3cb93af053798cf32c235f52e9c2a197d974e3ce392c822389aa7b6a55"
  },
  "kernelspec": {
   "display_name": "Python 3.9.7 64-bit",
   "name": "python3"
  },
  "language_info": {
   "codemirror_mode": {
    "name": "ipython",
    "version": 3
   },
   "file_extension": ".py",
   "mimetype": "text/x-python",
   "name": "python",
   "nbconvert_exporter": "python",
   "pygments_lexer": "ipython3",
   "version": "3.9.7"
  }
 },
 "nbformat": 4,
 "nbformat_minor": 2
}