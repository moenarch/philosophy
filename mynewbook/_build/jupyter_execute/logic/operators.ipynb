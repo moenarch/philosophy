{
 "cells": [
  {
   "cell_type": "markdown",
   "metadata": {},
   "source": [
    "# Operators"
   ]
  },
  {
   "cell_type": "code",
   "execution_count": 1,
   "metadata": {},
   "outputs": [
    {
     "name": "stdout",
     "output_type": "stream",
     "text": [
      "D:\\Catholicism\\philosophy\\mynewbook\n",
      "D:\\Catholicism\\philosophy\\mynewbook\\logic\n"
     ]
    }
   ],
   "source": [
    "%run propositions.ipynb"
   ]
  },
  {
   "cell_type": "code",
   "execution_count": 2,
   "metadata": {},
   "outputs": [],
   "source": [
    "def negate(truth_value):\r\n",
    "    if truth_value == None:\r\n",
    "        return None\r\n",
    "    return not truth_value\r\n",
    "\r\n",
    "class negation(proposition):\r\n",
    "    def __init__(self, prop, truth_value):\r\n",
    "        proposition.__init__(self, truth_value)\r\n",
    "        self.types[\"negation\"] = [\"proposition\"]\r\n",
    "        self.proposition = prop\r\n",
    "\r\n",
    "    def calculate(self):\r\n",
    "        return negate(self.proposition.isTrue())"
   ]
  },
  {
   "cell_type": "markdown",
   "metadata": {},
   "source": [
    "## Conditional"
   ]
  },
  {
   "cell_type": "code",
   "execution_count": 3,
   "metadata": {},
   "outputs": [],
   "source": [
    "class implication(proposition):\r\n",
    "    def __init__(self, antecedent, consequent, truth_value=None):\r\n",
    "        proposition.__init__(self, truth_value)\r\n",
    "        self.types[\"implication\"] = [\"proposition\"]\r\n",
    "        self.antecedent = antecedent\r\n",
    "        self.consequent = consequent\r\n",
    "\r\n",
    "    def calculate(self):\r\n",
    "        antecedent = self.antecedent\r\n",
    "        consequent = self.consequent\r\n",
    "        if antecedent.truth_value == False:\r\n",
    "            return True\r\n",
    "        if consequent.truth_value == True:\r\n",
    "            return True\r\n",
    "        if antecedent.truth_value == True and consequent.truth_value == False:\r\n",
    "            return False\r\n",
    "        return self.truth_value\r\n",
    "\r\n",
    "    def getText(self):\r\n",
    "        return \"if \" + self.antecedent.getText() + \" then \" + self.consequent.getText()"
   ]
  },
  {
   "cell_type": "markdown",
   "metadata": {},
   "source": [
    "## Conjunction"
   ]
  },
  {
   "cell_type": "code",
   "execution_count": 4,
   "metadata": {},
   "outputs": [],
   "source": [
    "class conjunction(proposition):\r\n",
    "    def __init__(self, propositions, truth_value=None):\r\n",
    "        proposition.__init__(self, truth_value)\r\n",
    "        self.types[\"conjunction\"] = [\"proposition\"]\r\n",
    "        self.propositions = propositions\r\n",
    "\r\n",
    "    def calculate(self):\r\n",
    "        temp = True\r\n",
    "        for prop in self.propositions:\r\n",
    "            if prop.isTrue() == False:\r\n",
    "                temp = False\r\n",
    "                break\r\n",
    "            if prop.isTrue() != True:\r\n",
    "                temp = prop.isTrue()\r\n",
    "        return temp\r\n",
    "\r\n",
    "    def getText(self):\r\n",
    "        text = self.propositions[0].getText()\r\n",
    "        for prop in self.propositions[1:]:\r\n",
    "            text += \" and \" + prop.getText()"
   ]
  },
  {
   "cell_type": "markdown",
   "metadata": {},
   "source": [
    "## Disjunction"
   ]
  },
  {
   "cell_type": "code",
   "execution_count": 5,
   "metadata": {},
   "outputs": [],
   "source": [
    "class disjunction(proposition):\r\n",
    "    def __init__(self, propositions, truth_value=None):\r\n",
    "        proposition.__init__(self, truth_value)\r\n",
    "        self.types[\"disjunction\"] = [\"proposition\"]\r\n",
    "        self.propositions = propositions\r\n",
    "\r\n",
    "    def calculate(self):\r\n",
    "        temp = False\r\n",
    "        for prop in self.propositions:\r\n",
    "            if prop.isTrue() == True:\r\n",
    "                temp = True\r\n",
    "                break\r\n",
    "            if prop.isTrue() != False:\r\n",
    "                temp = prop.isTrue()\r\n",
    "        return temp\r\n",
    "\r\n",
    "    def getText(self):\r\n",
    "        text = self.propositions[0].getText()\r\n",
    "        for prop in self.propositions[1:]:\r\n",
    "            text += \" or \" + prop.getText()"
   ]
  },
  {
   "cell_type": "markdown",
   "metadata": {},
   "source": [
    "## Biconditional"
   ]
  },
  {
   "cell_type": "code",
   "execution_count": 6,
   "metadata": {},
   "outputs": [],
   "source": [
    "class biconditional(proposition):\r\n",
    "    def __init__(self, propositions, truth_value=None):\r\n",
    "        proposition.__init__(self, truth_value)\r\n",
    "        self.types[\"biconditional\"] = [\"proposition\"]\r\n",
    "        self.propositions = propositions\r\n",
    "\r\n",
    "    def calculate(self):\r\n",
    "        first = self.propositions[0]\r\n",
    "        temp = first.isTrue()\r\n",
    "        if temp is None:\r\n",
    "            return None\r\n",
    "        for prop in self.propositions[1:]:\r\n",
    "            if prop.isTrue() != temp:\r\n",
    "                return None\r\n",
    "        return True\r\n",
    "\r\n",
    "    #def getText(self):\r\n",
    "    #    return self.antecedent.getText() + \" if and only if \" + self.consequent.getText()"
   ]
  }
 ],
 "metadata": {
  "interpreter": {
   "hash": "82898b3cb93af053798cf32c235f52e9c2a197d974e3ce392c822389aa7b6a55"
  },
  "kernelspec": {
   "display_name": "Python 3.9.7 64-bit",
   "name": "python3"
  },
  "language_info": {
   "codemirror_mode": {
    "name": "ipython",
    "version": 3
   },
   "file_extension": ".py",
   "mimetype": "text/x-python",
   "name": "python",
   "nbconvert_exporter": "python",
   "pygments_lexer": "ipython3",
   "version": "3.9.7"
  }
 },
 "nbformat": 4,
 "nbformat_minor": 2
}