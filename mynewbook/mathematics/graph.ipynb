{
 "cells": [
  {
   "cell_type": "markdown",
   "source": [
    "# Graphs"
   ],
   "metadata": {}
  },
  {
   "cell_type": "code",
   "execution_count": 4,
   "source": [
    "%cd ..\r\n",
    "%run utils.ipynb\r\n",
    "%cd mathematics/"
   ],
   "outputs": [
    {
     "output_type": "stream",
     "name": "stdout",
     "text": [
      "d:\\Catholicism\\philosophy\\mynewbook\n",
      "d:\\Catholicism\\philosophy\\mynewbook\\mathematics\n"
     ]
    }
   ],
   "metadata": {}
  },
  {
   "cell_type": "code",
   "execution_count": null,
   "source": [
    "class node(multityped):\r\n",
    "    def __init__(self, value):\r\n",
    "        multityped.__init__(self)\r\n",
    "        self.types[\"node\"] = []\r\n",
    "        self.value = value\r\n",
    "    \r\n",
    "    def getValue(self):\r\n",
    "        return self.value"
   ],
   "outputs": [],
   "metadata": {}
  },
  {
   "cell_type": "code",
   "execution_count": null,
   "source": [
    "class edge(multityped):\r\n",
    "    def __init__(self):\r\n",
    "        multityped.__init__(self)\r\n",
    "        self.types[\"edge\"] = []\r\n",
    "\r\n",
    "class directed_edge(edge):\r\n",
    "    def __init__(self, source, target):\r\n",
    "        edge.__init__(self)\r\n",
    "        self.types[\"directed_edge\"] = [\"edge\"]\r\n",
    "        self.source = source\r\n",
    "        self.target = target\r\n",
    "\r\n",
    "    def getSource(self):\r\n",
    "        return self.source\r\n",
    "\r\n",
    "    def getTarget(self):\r\n",
    "        return self.target"
   ],
   "outputs": [],
   "metadata": {}
  }
 ],
 "metadata": {
  "orig_nbformat": 4,
  "language_info": {
   "name": "python",
   "version": "3.9.7",
   "mimetype": "text/x-python",
   "codemirror_mode": {
    "name": "ipython",
    "version": 3
   },
   "pygments_lexer": "ipython3",
   "nbconvert_exporter": "python",
   "file_extension": ".py"
  },
  "kernelspec": {
   "name": "python3",
   "display_name": "Python 3.9.7 64-bit"
  },
  "interpreter": {
   "hash": "82898b3cb93af053798cf32c235f52e9c2a197d974e3ce392c822389aa7b6a55"
  }
 },
 "nbformat": 4,
 "nbformat_minor": 2
}