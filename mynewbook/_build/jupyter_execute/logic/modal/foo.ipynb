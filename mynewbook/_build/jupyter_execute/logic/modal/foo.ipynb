{
 "cells": [
  {
   "cell_type": "code",
   "execution_count": 1,
   "metadata": {},
   "outputs": [],
   "source": [
    "def bar():\r\n",
    "    return 4"
   ]
  }
 ],
 "metadata": {
  "interpreter": {
   "hash": "82898b3cb93af053798cf32c235f52e9c2a197d974e3ce392c822389aa7b6a55"
  },
  "kernelspec": {
   "display_name": "Python 3.9.7 64-bit",
   "name": "python3"
  },
  "language_info": {
   "codemirror_mode": {
    "name": "ipython",
    "version": 3
   },
   "file_extension": ".py",
   "mimetype": "text/x-python",
   "name": "python",
   "nbconvert_exporter": "python",
   "pygments_lexer": "ipython3",
   "version": "3.9.7"
  }
 },
 "nbformat": 4,
 "nbformat_minor": 2
}