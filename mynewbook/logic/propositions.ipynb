{
 "cells": [
  {
   "cell_type": "markdown",
   "source": [
    "# Propositions"
   ],
   "metadata": {}
  },
  {
   "cell_type": "code",
   "execution_count": 36,
   "source": [
    "%run utils.ipynb\r\n",
    "multityped"
   ],
   "outputs": [
    {
     "output_type": "execute_result",
     "data": {
      "text/plain": [
       "__main__.multityped"
      ]
     },
     "metadata": {},
     "execution_count": 36
    }
   ],
   "metadata": {}
  },
  {
   "cell_type": "code",
   "execution_count": 41,
   "source": [
    "class proposition(multityped):\r\n",
    "    def __init__(self, truth_value):\r\n",
    "        multityped.__init__(self)\r\n",
    "        self.types[\"proposition\"] = []\r\n",
    "        self.truth_value = truth_value\r\n",
    "\r\n",
    "    def isTrue(self):\r\n",
    "        if self.truth_value == None:\r\n",
    "            return self.calculate()\r\n",
    "        return self.truth_value\r\n",
    "\r\n",
    "class atomic_proposition(proposition):\r\n",
    "    def __init__(self, text, truth_value):\r\n",
    "        proposition.__init__(self, truth_value)\r\n",
    "        self.text = text\r\n",
    "\r\n",
    "    def getText(self):\r\n",
    "        return self.text\r\n",
    "    \r\n",
    "    def calculate(self):\r\n",
    "        return None\r\n",
    "\r\n",
    "falsity = atomic_proposition(\"False\", False)"
   ],
   "outputs": [],
   "metadata": {}
  },
  {
   "cell_type": "code",
   "execution_count": 8,
   "source": [
    "falsity.getText()"
   ],
   "outputs": [
    {
     "output_type": "execute_result",
     "data": {
      "text/plain": [
       "'False'"
      ]
     },
     "metadata": {},
     "execution_count": 8
    }
   ],
   "metadata": {}
  },
  {
   "cell_type": "code",
   "execution_count": null,
   "source": [],
   "outputs": [],
   "metadata": {}
  }
 ],
 "metadata": {
  "orig_nbformat": 4,
  "language_info": {
   "name": "python",
   "version": "3.9.7",
   "mimetype": "text/x-python",
   "codemirror_mode": {
    "name": "ipython",
    "version": 3
   },
   "pygments_lexer": "ipython3",
   "nbconvert_exporter": "python",
   "file_extension": ".py"
  },
  "kernelspec": {
   "name": "python3",
   "display_name": "Python 3.9.7 64-bit"
  },
  "interpreter": {
   "hash": "82898b3cb93af053798cf32c235f52e9c2a197d974e3ce392c822389aa7b6a55"
  }
 },
 "nbformat": 4,
 "nbformat_minor": 2
}