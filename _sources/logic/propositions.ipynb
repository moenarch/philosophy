{
 "cells": [
  {
   "cell_type": "markdown",
   "source": [
    "# Propositions"
   ],
   "metadata": {}
  },
  {
   "cell_type": "code",
   "execution_count": 21,
   "source": [
    "%cd ..\r\n",
    "%run utils.ipynb\r\n",
    "%cd logic/"
   ],
   "outputs": [
    {
     "output_type": "stream",
     "name": "stdout",
     "text": [
      "d:\\Catholicism\\philosophy\\mynewbook\n",
      "d:\\Catholicism\\philosophy\\mynewbook\\logic\n"
     ]
    }
   ],
   "metadata": {}
  },
  {
   "cell_type": "code",
   "execution_count": 22,
   "source": [
    "class proposition(multityped):\r\n",
    "    def __init__(self, truth_value):\r\n",
    "        multityped.__init__(self)\r\n",
    "        self.types[\"proposition\"] = []\r\n",
    "        self.truth_value = truth_value\r\n",
    "\r\n",
    "    def isTrue(self):\r\n",
    "        if self.truth_value == None:\r\n",
    "            return self.calculate()\r\n",
    "        return self.truth_value\r\n",
    "\r\n",
    "class atomic_proposition(proposition):\r\n",
    "    def __init__(self, text, truth_value):\r\n",
    "        proposition.__init__(self, truth_value)\r\n",
    "        self.text = text\r\n",
    "\r\n",
    "    def getText(self):\r\n",
    "        return self.text\r\n",
    "    \r\n",
    "    def calculate(self):\r\n",
    "        return None\r\n",
    "\r\n"
   ],
   "outputs": [],
   "metadata": {}
  },
  {
   "cell_type": "markdown",
   "source": [
    "## Truth\r\n",
    "\r\n",
    "Atomic proposition that is simply true."
   ],
   "metadata": {}
  },
  {
   "cell_type": "code",
   "execution_count": 23,
   "source": [
    "truth = atomic_proposition(\"True\", True)"
   ],
   "outputs": [],
   "metadata": {}
  },
  {
   "cell_type": "markdown",
   "source": [
    "## Falsity\r\n",
    "\r\n",
    "Atomic proposition that is simply false."
   ],
   "metadata": {}
  },
  {
   "cell_type": "code",
   "execution_count": 24,
   "source": [
    "falsity = atomic_proposition(\"False\", False)"
   ],
   "outputs": [],
   "metadata": {}
  }
 ],
 "metadata": {
  "orig_nbformat": 4,
  "language_info": {
   "name": "python",
   "version": "3.9.7",
   "mimetype": "text/x-python",
   "codemirror_mode": {
    "name": "ipython",
    "version": 3
   },
   "pygments_lexer": "ipython3",
   "nbconvert_exporter": "python",
   "file_extension": ".py"
  },
  "kernelspec": {
   "name": "python3",
   "display_name": "Python 3.9.7 64-bit"
  },
  "interpreter": {
   "hash": "82898b3cb93af053798cf32c235f52e9c2a197d974e3ce392c822389aa7b6a55"
  }
 },
 "nbformat": 4,
 "nbformat_minor": 2
}