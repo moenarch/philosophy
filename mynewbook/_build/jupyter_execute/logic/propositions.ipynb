{
 "cells": [
  {
   "cell_type": "markdown",
   "metadata": {},
   "source": [
    "# Propositions"
   ]
  },
  {
   "cell_type": "code",
   "execution_count": 1,
   "metadata": {},
   "outputs": [
    {
     "name": "stdout",
     "output_type": "stream",
     "text": [
      "D:\\Catholicism\\philosophy\\mynewbook\n",
      "D:\\Catholicism\\philosophy\\mynewbook\\logic\n"
     ]
    }
   ],
   "source": [
    "%cd ..\r\n",
    "%run utils.ipynb\r\n",
    "%cd logic/"
   ]
  },
  {
   "cell_type": "code",
   "execution_count": 2,
   "metadata": {},
   "outputs": [],
   "source": [
    "class proposition(multityped):\r\n",
    "    def __init__(self, truth_value):\r\n",
    "        multityped.__init__(self)\r\n",
    "        self.types[\"proposition\"] = []\r\n",
    "        self.truth_value = truth_value\r\n",
    "\r\n",
    "    def isTrue(self):\r\n",
    "        if self.truth_value == None:\r\n",
    "            return self.calculate()\r\n",
    "        return self.truth_value\r\n",
    "\r\n",
    "class atomic_proposition(proposition):\r\n",
    "    def __init__(self, text, truth_value):\r\n",
    "        proposition.__init__(self, truth_value)\r\n",
    "        self.text = text\r\n",
    "\r\n",
    "    def getText(self):\r\n",
    "        return self.text\r\n",
    "    \r\n",
    "    def calculate(self):\r\n",
    "        return None\r\n",
    "\r\n"
   ]
  },
  {
   "cell_type": "markdown",
   "metadata": {},
   "source": [
    "## Truth\r\n",
    "\r\n",
    "Atomic proposition that is simply true."
   ]
  },
  {
   "cell_type": "code",
   "execution_count": 3,
   "metadata": {},
   "outputs": [],
   "source": [
    "truth = atomic_proposition(\"True\", True)"
   ]
  },
  {
   "cell_type": "markdown",
   "metadata": {},
   "source": [
    "## Falsity\r\n",
    "\r\n",
    "Atomic proposition that is simply false."
   ]
  },
  {
   "cell_type": "code",
   "execution_count": 4,
   "metadata": {},
   "outputs": [],
   "source": [
    "falsity = atomic_proposition(\"False\", False)"
   ]
  }
 ],
 "metadata": {
  "interpreter": {
   "hash": "82898b3cb93af053798cf32c235f52e9c2a197d974e3ce392c822389aa7b6a55"
  },
  "kernelspec": {
   "display_name": "Python 3.9.7 64-bit",
   "name": "python3"
  },
  "language_info": {
   "codemirror_mode": {
    "name": "ipython",
    "version": 3
   },
   "file_extension": ".py",
   "mimetype": "text/x-python",
   "name": "python",
   "nbconvert_exporter": "python",
   "pygments_lexer": "ipython3",
   "version": "3.9.7"
  }
 },
 "nbformat": 4,
 "nbformat_minor": 2
}